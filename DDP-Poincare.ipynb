{
 "cells": [
  {
   "cell_type": "code",
   "execution_count": 1,
   "metadata": {},
   "outputs": [],
   "source": [
    "import numpy as np\n",
    "from scipy.integrate import odeint\n",
    "import matplotlib.pyplot as plt\n",
    "%matplotlib inline"
   ]
  },
  {
   "cell_type": "code",
   "execution_count": 2,
   "metadata": {},
   "outputs": [
    {
     "name": "stdout",
     "output_type": "stream",
     "text": [
      "376800\n"
     ]
    }
   ],
   "source": [
    "k=0.2\n",
    "g=9.8\n",
    "L=9.8\n",
    "k=0.5\n",
    "phi=0.667\n",
    "#A=[0.9,1.07,1.15,1.35]\n",
    "A=[1.35,1.45,1.47,1.5]\n",
    "def pend(x,t,A):\n",
    "    theta=x[0]\n",
    "    w=x[1]\n",
    "    dtheta_dt=w\n",
    "    dwdt=-g/L*np.sin(theta)-k*w+A*np.cos(phi*t)\n",
    "    return [w,dwdt]\n",
    "\n",
    "#Initialize position and velocity\n",
    "x=[0,1]\n",
    "\n",
    "#set time period\n",
    "time=np.arange(0,20*188.4,0.01)\n",
    "\n",
    "#calculate results\n",
    "result135=odeint(pend,x,time,args=(A[0],))\n",
    "result145=odeint(pend,x,time,args=(A[1],))\n",
    "result147=odeint(pend,x,time,args=(A[2],))\n",
    "result150=odeint(pend,x,time,args=(A[3],))\n",
    "\n",
    "def angles(result):\n",
    "    bin=[]\n",
    "    for i in range(len(time)):\n",
    "        b=round((result[i][0])%(2*np.pi),2)\n",
    "        if b>np.pi:\n",
    "            b -=2*np.pi\n",
    "        bin.append(round(b,2))\n",
    "    return bin\n",
    "    \n",
    "\n",
    "angle135=angles(result135)\n",
    "angle145=angles(result145)\n",
    "angle147=angles(result147)\n",
    "angle150=angles(result150)\n",
    "\n",
    "\n",
    "print (len(time))"
   ]
  },
  {
   "cell_type": "code",
   "execution_count": 3,
   "metadata": {},
   "outputs": [
    {
     "data": {
      "text/plain": [
       "'\\nplt.figure(figsize=(15,8))\\nplt.subplot(221)\\nplt.plot(result135[:,0],result135[:,1])\\nplt.title(\"A=1.35\")\\n\\nplt.subplot(222)\\nplt.plot(result145[:,0],result145[:,1])\\nplt.title(\"A=1.45\")\\n\\nplt.subplot(223)\\nplt.plot(result147[:,0],result147[:,1])\\nplt.title(\"A=1.47\")\\nplt.subplot(224)\\nplt.plot(result150[:,0],result150[:,1])\\nplt.title(\"A=1.5\")\\nplt.subplots_adjust(top=0.92, bottom=0.08, left=0.10, right=0.95, hspace=0.5,\\n                    wspace=0.35)\\n'"
      ]
     },
     "execution_count": 3,
     "metadata": {},
     "output_type": "execute_result"
    }
   ],
   "source": [
    "'''\n",
    "plt.figure(figsize=(15,8))\n",
    "plt.subplot(221)\n",
    "plt.plot(result135[:,0],result135[:,1])\n",
    "plt.title(\"A=1.35\")\n",
    "\n",
    "plt.subplot(222)\n",
    "plt.plot(result145[:,0],result145[:,1])\n",
    "plt.title(\"A=1.45\")\n",
    "\n",
    "plt.subplot(223)\n",
    "plt.plot(result147[:,0],result147[:,1])\n",
    "plt.title(\"A=1.47\")\n",
    "plt.subplot(224)\n",
    "plt.plot(result150[:,0],result150[:,1])\n",
    "plt.title(\"A=1.5\")\n",
    "plt.subplots_adjust(top=0.92, bottom=0.08, left=0.10, right=0.95, hspace=0.5,\n",
    "                    wspace=0.35)\n",
    "'''\n",
    "\n",
    "\n"
   ]
  },
  {
   "cell_type": "code",
   "execution_count": 4,
   "metadata": {},
   "outputs": [
    {
     "data": {
      "text/plain": [
       "'\\nplt.figure(figsize=(15,8))\\nplt.subplot(221)\\nplt.plot(angle135,result135[:,1],\\'r.\\',ms=0.2)\\nplt.title(\"A=1.35\")\\nplt.subplot(222)\\nplt.plot(angle145,result145[:,1],\\'r.\\',ms=0.2)\\nplt.title(\"A=1.45\")\\nplt.subplot(223)\\nplt.plot(angle147,result147[:,1],\\'r.\\',ms=0.2)\\nplt.title(\"A=1.47\")\\nplt.subplot(224)\\nplt.plot(angle150,result150[:,1],\\'r.\\',ms=0.2)\\nplt.title(\"A=1.5\")\\nplt.subplots_adjust(top=0.92, bottom=0.08, left=0.10, right=0.95, hspace=0.25,\\n                    wspace=0.25)\\n\\n'"
      ]
     },
     "execution_count": 4,
     "metadata": {},
     "output_type": "execute_result"
    }
   ],
   "source": [
    "'''\n",
    "plt.figure(figsize=(15,8))\n",
    "plt.subplot(221)\n",
    "plt.plot(angle135,result135[:,1],'r.',ms=0.2)\n",
    "plt.title(\"A=1.35\")\n",
    "plt.subplot(222)\n",
    "plt.plot(angle145,result145[:,1],'r.',ms=0.2)\n",
    "plt.title(\"A=1.45\")\n",
    "plt.subplot(223)\n",
    "plt.plot(angle147,result147[:,1],'r.',ms=0.2)\n",
    "plt.title(\"A=1.47\")\n",
    "plt.subplot(224)\n",
    "plt.plot(angle150,result150[:,1],'r.',ms=0.2)\n",
    "plt.title(\"A=1.5\")\n",
    "plt.subplots_adjust(top=0.92, bottom=0.08, left=0.10, right=0.95, hspace=0.25,\n",
    "                    wspace=0.25)\n",
    "\n",
    "'''\n"
   ]
  },
  {
   "cell_type": "code",
   "execution_count": 5,
   "metadata": {},
   "outputs": [
    {
     "data": {
      "text/plain": [
       "'\\nplt.figure(figsize=(12,12))\\nplt.subplot(4,1,1)\\nplt.plot(time,angle135,\\'r\\')\\nplt.plot(time,result135[:,1])\\nplt.title(\"A=1.35\")\\n\\nplt.subplot(4,1,2)\\nplt.plot(time,angle145,\\'r\\')\\nplt.plot(time,result145[:,1])\\nplt.title(\"A=1.45\")\\n\\nplt.subplot(4,1,3)\\nplt.plot(time,angle147,\\'r\\')\\nplt.plot(time,result147[:,1])\\nplt.title(\"A=1.47\")\\n\\nplt.subplot(4,1,4)\\nplt.plot(time,angle150,\\'r\\')\\nplt.plot(time,result150[:,1])\\nplt.title(\"A=1.5\")\\nplt.subplots_adjust(top=0.92, bottom=0.08, left=0.10, right=0.95, hspace=0.25,\\n                    wspace=0.35)\\n\\n'"
      ]
     },
     "execution_count": 5,
     "metadata": {},
     "output_type": "execute_result"
    }
   ],
   "source": [
    "'''\n",
    "plt.figure(figsize=(12,12))\n",
    "plt.subplot(4,1,1)\n",
    "plt.plot(time,angle135,'r')\n",
    "plt.plot(time,result135[:,1])\n",
    "plt.title(\"A=1.35\")\n",
    "\n",
    "plt.subplot(4,1,2)\n",
    "plt.plot(time,angle145,'r')\n",
    "plt.plot(time,result145[:,1])\n",
    "plt.title(\"A=1.45\")\n",
    "\n",
    "plt.subplot(4,1,3)\n",
    "plt.plot(time,angle147,'r')\n",
    "plt.plot(time,result147[:,1])\n",
    "plt.title(\"A=1.47\")\n",
    "\n",
    "plt.subplot(4,1,4)\n",
    "plt.plot(time,angle150,'r')\n",
    "plt.plot(time,result150[:,1])\n",
    "plt.title(\"A=1.5\")\n",
    "plt.subplots_adjust(top=0.92, bottom=0.08, left=0.10, right=0.95, hspace=0.25,\n",
    "                    wspace=0.35)\n",
    "\n",
    "'''"
   ]
  },
  {
   "cell_type": "code",
   "execution_count": 6,
   "metadata": {},
   "outputs": [
    {
     "name": "stdout",
     "output_type": "stream",
     "text": [
      "Time period of driving force is: 4.710033963402988\n"
     ]
    }
   ],
   "source": [
    "# What is the time period of Driving force?\n",
    "dT=np.pi/phi\n",
    "print (\"Time period of driving force is:\",dT)"
   ]
  },
  {
   "cell_type": "code",
   "execution_count": 7,
   "metadata": {},
   "outputs": [],
   "source": [
    "def poincare(angle,result):\n",
    "    p_angle=[]\n",
    "    p_vel=[]\n",
    "    for i in range(25*471,len(time)-25*471,471):\n",
    "        a=angle[i]\n",
    "        p_angle.append(a)\n",
    "        b=result[i,1]\n",
    "        p_vel.append(round(b,2))\n",
    "    return (p_angle,p_vel)\n",
    "   \n",
    "poincare135=poincare(angle135,result135)    \n",
    "poincare145=poincare(angle145,result145) \n",
    "poincare147=poincare(angle147,result147) \n",
    "poincare150=poincare(angle150,result150) \n",
    "    "
   ]
  },
  {
   "cell_type": "code",
   "execution_count": 8,
   "metadata": {},
   "outputs": [
    {
     "data": {
      "text/plain": [
       "Text(0.5, 1.0, 'A=1.5')"
      ]
     },
     "execution_count": 8,
     "metadata": {},
     "output_type": "execute_result"
    },
    {
     "data": {
      "image/png": "[encoded data removed]",
      "text/plain": [
       "<Figure size 1080x720 with 4 Axes>"
      ]
     },
     "metadata": {
      "needs_background": "light"
     },
     "output_type": "display_data"
    }
   ],
   "source": [
    "plt.figure(figsize=(15,10))\n",
    "plt.subplot(2,2,1)\n",
    "plt.plot(poincare135[0],poincare135[1],'b.',ms=2)\n",
    "plt.title(\"A=1.35\")\n",
    "plt.subplot(2,2,2)\n",
    "plt.plot(poincare145[0],poincare145[1],'r.',ms=2)\n",
    "plt.title(\"A=1.45\")\n",
    "plt.subplot(2,2,3)\n",
    "plt.plot(poincare147[0],poincare147[1],'k.',ms=2)\n",
    "plt.title(\"A=1.47\")\n",
    "plt.subplot(2,2,4)\n",
    "plt.plot(poincare150[0],poincare150[1],'g.',ms=2)\n",
    "plt.title(\"A=1.5\")"
   ]
  },
  {
   "cell_type": "code",
   "execution_count": 9,
   "metadata": {},
   "outputs": [
    {
     "data": {
      "text/plain": [
       "<matplotlib.legend.Legend at 0x1d2c3d681d0>"
      ]
     },
     "execution_count": 9,
     "metadata": {},
     "output_type": "execute_result"
    },
    {
     "data": {
      "image/png": "[encoded data removed]",
      "text/plain": [
       "<Figure size 576x576 with 1 Axes>"
      ]
     },
     "metadata": {
      "needs_background": "light"
     },
     "output_type": "display_data"
    }
   ],
   "source": [
    "plt.figure(figsize=(8,8))\n",
    "plt.plot(poincare135[0],poincare135[1],'b.',ms=2)\n",
    "plt.plot(poincare145[0],poincare145[1],'r.',ms=2)\n",
    "plt.plot(poincare147[0],poincare147[1],'k.',ms=2)\n",
    "plt.plot(poincare150[0],poincare150[1],'g.',ms=2)\n",
    "plt.xlabel('Angle')\n",
    "plt.ylabel('Frequency')\n",
    "plt.legend(('A=1.35','A=1.45','A=1.47','A=1.5'))"
   ]
  },
  {
   "cell_type": "code",
   "execution_count": null,
   "metadata": {},
   "outputs": [],
   "source": []
  }
 ],
 "metadata": {
  "kernelspec": {
   "display_name": "Python 3",
   "language": "python",
   "name": "python3"
  },
  "language_info": {
   "codemirror_mode": {
    "name": "ipython",
    "version": 3
   },
   "file_extension": ".py",
   "mimetype": "text/x-python",
   "name": "python",
   "nbconvert_exporter": "python",
   "pygments_lexer": "ipython3",
   "version": "3.7.6"
  }
 },
 "nbformat": 4,
 "nbformat_minor": 2
}
