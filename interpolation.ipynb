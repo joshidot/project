{
 "cells": [
  {
   "cell_type": "markdown",
   "metadata": {},
   "source": [
    "# Interpolation and extrapolation"
   ]
  },
  {
   "cell_type": "markdown",
   "metadata": {},
   "source": [
    "## 1.Newton forward difference method"
   ]
  },
  {
   "cell_type": "markdown",
   "metadata": {},
   "source": [
    "If h is increment in x then\n",
    "\\begin{equation}\n",
    "x_1=x_0+h \n",
    "\\end{equation}\n",
    "\\begin{equation}\n",
    "x_2=x_0+2h \n",
    "\\end{equation}\n",
    "\\begin{equation}\n",
    "x_k=x_0+kh\n",
    "\\end{equation}"
   ]
  },
  {
   "cell_type": "markdown",
   "metadata": {},
   "source": [
    "Differences are\n",
    "\\begin{equation}\n",
    "\\Delta y_k=y_{k+1}-y_k \n",
    "\\end{equation}\n",
    "\\begin{equation}\n",
    "\\Delta^2 y_k=\\Delta y_{k+1}-\\Delta y_k \n",
    "\\end{equation}\n",
    "\\begin{equation}\n",
    "\\Delta^3 y_k=\\Delta^2 y_{k+1}-\\Delta^2y_k\n",
    "\\end{equation}"
   ]
  },
  {
   "cell_type": "markdown",
   "metadata": {},
   "source": [
    "Newton's polynomial equation is\n",
    "\\begin{equation}\n",
    "y_k=y_0+\\frac{k}{1!}\\Delta y_0+\\frac{k(k-1)}{2!}\\Delta^2 y_0+\\frac{k(k-1)(k-2)}{3!}\\Delta^3 y_0+\\frac{k(k-1)(k-2)(k-3)}{4!}\\Delta^4 y_0+....\n",
    "\\end{equation}"
   ]
  },
  {
   "cell_type": "markdown",
   "metadata": {},
   "source": [
    "## Code"
   ]
  },
  {
   "cell_type": "code",
   "execution_count": 1,
   "metadata": {},
   "outputs": [],
   "source": [
    "import numpy as np"
   ]
  },
  {
   "cell_type": "code",
   "execution_count": 2,
   "metadata": {},
   "outputs": [],
   "source": [
    "x=[35,37,39,41,43,45]\n",
    "y=[0.57357,0.60181,0.62932,0.65606,0.68199,0.70711]\n",
    "n=6\n",
    "h=x[1]-x[0]\n",
    "xk=36.3\n",
    "k=(xk-x[0])/h"
   ]
  },
  {
   "cell_type": "code",
   "execution_count": 3,
   "metadata": {},
   "outputs": [],
   "source": [
    "d1y=[]# first difference\n",
    "for i in range(n-1):\n",
    "    d1y.append(y[i+1]-y[i]) "
   ]
  },
  {
   "cell_type": "code",
   "execution_count": 4,
   "metadata": {},
   "outputs": [],
   "source": [
    "d2y=[]# second difference\n",
    "for i in range(n-2):\n",
    "    d2y.append(d1y[i+1]-d1y[i]) "
   ]
  },
  {
   "cell_type": "code",
   "execution_count": 5,
   "metadata": {},
   "outputs": [],
   "source": [
    "d3y=[]# third difference\n",
    "for i in range(n-3):\n",
    "    d3y.append(d2y[i+1]-d2y[i]) "
   ]
  },
  {
   "cell_type": "code",
   "execution_count": 6,
   "metadata": {},
   "outputs": [],
   "source": [
    "d4y=[]# forth difference\n",
    "for i in range(n-4):\n",
    "    d4y.append(d3y[i+1]-d3y[i]) "
   ]
  },
  {
   "cell_type": "code",
   "execution_count": 7,
   "metadata": {},
   "outputs": [],
   "source": [
    "d5y=d4y[1]-d4y[0] # fifth difference"
   ]
  },
  {
   "cell_type": "code",
   "execution_count": 8,
   "metadata": {},
   "outputs": [],
   "source": [
    "yk=y[0]+k*d1y[0]+k*(k-1)*d2y[0]/2+k*(k-1)*(k-2)*d3y[0]/6+k*(k-1)*(k-2)*(k-3)*d4y[0]/24+k*(k-1)*(k-2)*(k-3)*(k-4)*d5y/120"
   ]
  },
  {
   "cell_type": "code",
   "execution_count": 9,
   "metadata": {},
   "outputs": [
    {
     "name": "stdout",
     "output_type": "stream",
     "text": [
      "\n",
      " For xk=36.3 , yk = 0.5920\n"
     ]
    }
   ],
   "source": [
    "print('\\n For xk=36.3 , yk = %0.4f'%yk)"
   ]
  },
  {
   "cell_type": "markdown",
   "metadata": {},
   "source": [
    "## 2.Lagrange method"
   ]
  },
  {
   "cell_type": "markdown",
   "metadata": {},
   "source": [
    "\\begin{equation}\n",
    "y=\\sum_{i=0}^n{L_i~y_i} \n",
    "\\end{equation}"
   ]
  },
  {
   "cell_type": "markdown",
   "metadata": {},
   "source": [
    "where\n",
    "\\begin{equation}\n",
    "L_i=\\frac{(x-x_0)(x-x_1)(x-x_2)(x-x_3)...(x-x_n)}{(x_i-x_0)(x_i-x_1)(x_i-x_2)(x_i-x_3)....(x_i-x_n)} \n",
    "\\end{equation}\n",
    "\\begin{equation}\n",
    "L_i=\\frac{\\prod_{j=0}^n{(x-x_j)}}{\\prod_{j=0}^n{(x_i-x_j)}} \n",
    "\\end{equation}\n",
    "Here i = j term is excluded"
   ]
  },
  {
   "cell_type": "markdown",
   "metadata": {},
   "source": [
    "## Code"
   ]
  },
  {
   "cell_type": "code",
   "execution_count": 10,
   "metadata": {},
   "outputs": [],
   "source": [
    "L=[]\n",
    "summ=0\n",
    "for i in range(n):\n",
    "    num=1\n",
    "    dem=1\n",
    "    for j in range(n):\n",
    "        if(i!=j):\n",
    "            num=num*(xk-x[j])\n",
    "            dem=dem*(x[i]-x[j])\n",
    "    L.append(num/dem)\n",
    "    summ=summ+L[i]*y[i]    "
   ]
  },
  {
   "cell_type": "code",
   "execution_count": 11,
   "metadata": {},
   "outputs": [
    {
     "name": "stdout",
     "output_type": "stream",
     "text": [
      "\n",
      "For xk = 36.3 , yk = 0.5920\n"
     ]
    }
   ],
   "source": [
    "print('\\nFor xk = 36.3 , yk = %0.4f'%summ)"
   ]
  },
  {
   "cell_type": "markdown",
   "metadata": {},
   "source": [
    "## Reference\n",
    "1.Scarborough J.B. – Numerical Analysis, John Hopkins Press, USA (1962)"
   ]
  },
  {
   "cell_type": "code",
   "execution_count": null,
   "metadata": {},
   "outputs": [],
   "source": []
  }
 ],
 "metadata": {
  "kernelspec": {
   "display_name": "Python 3",
   "language": "python",
   "name": "python3"
  },
  "language_info": {
   "codemirror_mode": {
    "name": "ipython",
    "version": 3
   },
   "file_extension": ".py",
   "mimetype": "text/x-python",
   "name": "python",
   "nbconvert_exporter": "python",
   "pygments_lexer": "ipython3",
   "version": "3.7.6"
  }
 },
 "nbformat": 4,
 "nbformat_minor": 4
}
