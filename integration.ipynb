{
 "cells": [
  {
   "cell_type": "markdown",
   "metadata": {},
   "source": [
    "# Integration"
   ]
  },
  {
   "cell_type": "markdown",
   "metadata": {},
   "source": [
    "\\begin{equation}\n",
    "I=\\int_a^b{ydx}\n",
    "\\end{equation}"
   ]
  },
  {
   "cell_type": "markdown",
   "metadata": {},
   "source": [
    "\\begin{equation}\n",
    "n=\\frac{b-a}{h}\n",
    "\\end{equation}\n",
    "where h = $x_1 - x_0$"
   ]
  },
  {
   "cell_type": "markdown",
   "metadata": {},
   "source": [
    "## 1.Trapezoidal formula"
   ]
  },
  {
   "cell_type": "markdown",
   "metadata": {},
   "source": [
    "\\begin{equation}\n",
    "I=\\frac{h}{2}[y_0+2(y_1+y_2+y_3.......+y_{n-1})+y_n]\n",
    "\\end{equation}"
   ]
  },
  {
   "cell_type": "markdown",
   "metadata": {},
   "source": [
    "### Example\n",
    "\\begin{equation}\n",
    "I=\\int_{0}^{0.12}{e^x dx}\n",
    "\\end{equation}"
   ]
  },
  {
   "cell_type": "code",
   "execution_count": 1,
   "metadata": {},
   "outputs": [],
   "source": [
    "import numpy as np"
   ]
  },
  {
   "cell_type": "code",
   "execution_count": 2,
   "metadata": {},
   "outputs": [
    {
     "data": {
      "text/plain": [
       "12"
      ]
     },
     "execution_count": 2,
     "metadata": {},
     "output_type": "execute_result"
    }
   ],
   "source": [
    "a=0\n",
    "b=0.12\n",
    "h=0.01\n",
    "n=np.int(np.round((b-a)/h))\n",
    "n"
   ]
  },
  {
   "cell_type": "code",
   "execution_count": 3,
   "metadata": {},
   "outputs": [
    {
     "name": "stdout",
     "output_type": "stream",
     "text": [
      "Standard integration =0.1275\n"
     ]
    }
   ],
   "source": [
    "s_intg=np.exp(b)-np.exp(a)\n",
    "print('Standard integration =%0.4f'%s_intg)"
   ]
  },
  {
   "cell_type": "code",
   "execution_count": 4,
   "metadata": {},
   "outputs": [],
   "source": [
    "def f(x):\n",
    "    return np.exp(x)"
   ]
  },
  {
   "cell_type": "code",
   "execution_count": 5,
   "metadata": {},
   "outputs": [
    {
     "data": {
      "text/plain": [
       "[0, 0.01, 0.02, 0.03, 0.04, 0.05, 0.06, 0.07, 0.08, 0.09, 0.1, 0.11, 0.12]"
      ]
     },
     "execution_count": 5,
     "metadata": {},
     "output_type": "execute_result"
    }
   ],
   "source": [
    "x=[]\n",
    "y=[]\n",
    "x.append(a)\n",
    "y.append(f(x[0]))\n",
    "for i in range(1,n+1):\n",
    "    x.append(x[0]+i*h)\n",
    "    y.append(f(x[i]))\n",
    "x "
   ]
  },
  {
   "cell_type": "code",
   "execution_count": 6,
   "metadata": {},
   "outputs": [],
   "source": [
    "summ=0.0\n",
    "for i in range(1,n):\n",
    "    summ=summ+y[i]\n",
    "intg1=h*(2*summ+y[0]+y[n])/2    "
   ]
  },
  {
   "cell_type": "code",
   "execution_count": 7,
   "metadata": {},
   "outputs": [
    {
     "name": "stdout",
     "output_type": "stream",
     "text": [
      "integration by trapezoidal method =0.1275\n"
     ]
    }
   ],
   "source": [
    "print('integration by trapezoidal method =%0.4f'%intg1)"
   ]
  },
  {
   "cell_type": "code",
   "execution_count": 8,
   "metadata": {},
   "outputs": [
    {
     "name": "stdout",
     "output_type": "stream",
     "text": [
      "Percentage error =0.00083\n"
     ]
    }
   ],
   "source": [
    "per_error1=np.abs(s_intg-intg1)*100/s_intg\n",
    "print('Percentage error =%0.5f'%per_error1)"
   ]
  },
  {
   "cell_type": "markdown",
   "metadata": {},
   "source": [
    "## 2.Simpson’s 1/3 rule"
   ]
  },
  {
   "cell_type": "markdown",
   "metadata": {},
   "source": [
    "\\begin{equation}\n",
    "I=\\frac{h}{3}[y_0+4(y_1+y_3+y_5..)+2(y_2+y_4+y_6......)+y_n]\n",
    "\\end{equation}\n",
    "here n is even"
   ]
  },
  {
   "cell_type": "code",
   "execution_count": 9,
   "metadata": {},
   "outputs": [
    {
     "data": {
      "text/plain": [
       "6"
      ]
     },
     "execution_count": 9,
     "metadata": {},
     "output_type": "execute_result"
    }
   ],
   "source": [
    "m=np.int(n/2)\n",
    "m"
   ]
  },
  {
   "cell_type": "code",
   "execution_count": 10,
   "metadata": {},
   "outputs": [],
   "source": [
    "summ1=0.0\n",
    "summ2=0.0\n",
    "for i in range(1,m):\n",
    "    summ1=summ1+y[2*i-1]\n",
    "    summ2=summ2+y[2*i]\n",
    "intg2=h*(4*summ1+2*summ2+y[0]+y[n])/3 "
   ]
  },
  {
   "cell_type": "code",
   "execution_count": 11,
   "metadata": {},
   "outputs": [
    {
     "name": "stdout",
     "output_type": "stream",
     "text": [
      "integration by simpson 1/3 method =0.1126\n"
     ]
    }
   ],
   "source": [
    "print('integration by simpson 1/3 method =%0.4f'%intg2)"
   ]
  },
  {
   "cell_type": "code",
   "execution_count": 12,
   "metadata": {},
   "outputs": [
    {
     "name": "stdout",
     "output_type": "stream",
     "text": [
      "Percentage error =11.6738\n"
     ]
    }
   ],
   "source": [
    "per_error1=np.abs(s_intg-intg2)*100/s_intg\n",
    "print('Percentage error =%0.4f'%per_error1)"
   ]
  },
  {
   "cell_type": "markdown",
   "metadata": {},
   "source": [
    "## 3.Simpson’s 3/8 rule"
   ]
  },
  {
   "cell_type": "markdown",
   "metadata": {},
   "source": [
    "\\begin{equation}\n",
    "I=\\frac{3h}{8}[y_0+3(y_1+y_2+y_4+y_5..)+2(y_3+y_6+y_9......)+y_n]\n",
    "\\end{equation}\n",
    "here n is multiple of 3"
   ]
  },
  {
   "cell_type": "code",
   "execution_count": 13,
   "metadata": {},
   "outputs": [
    {
     "data": {
      "text/plain": [
       "4"
      ]
     },
     "execution_count": 13,
     "metadata": {},
     "output_type": "execute_result"
    }
   ],
   "source": [
    "k=np.int(n/3)\n",
    "k"
   ]
  },
  {
   "cell_type": "code",
   "execution_count": 14,
   "metadata": {},
   "outputs": [],
   "source": [
    "summ1=0.0\n",
    "summ2=0.0\n",
    "summ3=0.0\n",
    "for i in range(1,k):\n",
    "    summ1=summ1+y[3*i-1]\n",
    "    summ2=summ2+y[3*i-2]\n",
    "    summ3=summ3+y[3*i]\n",
    "intg3=3*h*(3*(summ1+summ2)+2*summ3+y[0]+y[n])/8"
   ]
  },
  {
   "cell_type": "code",
   "execution_count": 15,
   "metadata": {},
   "outputs": [
    {
     "name": "stdout",
     "output_type": "stream",
     "text": [
      "integration by simpsom 3/8 method =0.1025\n"
     ]
    }
   ],
   "source": [
    "print('integration by simpsom 3/8 method =%0.4f'%intg3)"
   ]
  },
  {
   "cell_type": "code",
   "execution_count": 16,
   "metadata": {},
   "outputs": [
    {
     "name": "stdout",
     "output_type": "stream",
     "text": [
      "Percentage error =19.6015\n"
     ]
    }
   ],
   "source": [
    "per_error1=np.abs(s_intg-intg3)*100/s_intg\n",
    "print('Percentage error =%0.4f'%per_error1)"
   ]
  },
  {
   "cell_type": "markdown",
   "metadata": {},
   "source": [
    "## Reference\n",
    "1.Scarborough J.B. – Numerical Analysis, John Hopkins Press, USA (1962)\n"
   ]
  },
  {
   "cell_type": "code",
   "execution_count": null,
   "metadata": {},
   "outputs": [],
   "source": []
  }
 ],
 "metadata": {
  "kernelspec": {
   "display_name": "Python 3",
   "language": "python",
   "name": "python3"
  },
  "language_info": {
   "codemirror_mode": {
    "name": "ipython",
    "version": 3
   },
   "file_extension": ".py",
   "mimetype": "text/x-python",
   "name": "python",
   "nbconvert_exporter": "python",
   "pygments_lexer": "ipython3",
   "version": "3.7.6"
  }
 },
 "nbformat": 4,
 "nbformat_minor": 4
}
